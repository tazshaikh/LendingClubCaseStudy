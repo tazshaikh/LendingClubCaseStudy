{
 "cells": [
  {
   "cell_type": "markdown",
   "id": "5370d32c",
   "metadata": {},
   "source": [
    "#                                            Lending Club Case Study\n",
    "\n",
    "# The main purpose of this notefbook is to clearly explains the thought process behind Lending_club Case analysis \n"
   ]
  },
  {
   "cell_type": "markdown",
   "id": "9f79edd5",
   "metadata": {},
   "source": [
    "This notebook is divided into following sections :\n",
    "\n",
    "1) Data Understanding : For identifying Data quality issues\n",
    "                      : Correct Interpretation of variable meanings\n",
    "2) Data Cleaning and Manipulation : Addressing Data Quality Issues like missing value imputation, outlier treatment and other\n",
    "                                    kinds of data redundancies.\n",
    "                                    Converting Data to a suitable convinient format\n",
    "                                    Manipulation of string and dates\n",
    "3) Data Analysis : Right problem is solved which is coherent with the needs of the business\n",
    "                 : Perform Univeriate Analysis\n",
    "                 : Identifying 5 important drivers which are strong indicators of default\n",
    "                 : Business-driven, type-driven and data-driven metrics are created for the important variables and utilised\n",
    "                   for  analysis\n",
    "                 : Perform Biveriate Analysis\n",
    "                 : Appropriate plots are created to present the results of the analysis\n",
    "4) Recommendations And Assumptions : The recommendations to solve the problems \n",
    "                                   : Stating any Assumptions made clearly\n",
    "                                   \n"
   ]
  },
  {
   "cell_type": "code",
   "execution_count": 1,
   "id": "5b7c2533",
   "metadata": {},
   "outputs": [],
   "source": [
    "#Importing all the necessary python libraries for executing the Lending Club Case Study\n",
    "import numpy as np\n",
    "import pandas as pd"
   ]
  },
  {
   "cell_type": "code",
   "execution_count": 2,
   "id": "8dc6d23a",
   "metadata": {},
   "outputs": [],
   "source": [
    "#Importing Data Analysis libraries\n",
    "#!pip install seaborn\n",
    "import seaborn as sns\n",
    "import matplotlib.pyplot as plt\n",
    "from matplotlib import style"
   ]
  },
  {
   "cell_type": "code",
   "execution_count": 3,
   "id": "7e2eeb1a",
   "metadata": {},
   "outputs": [],
   "source": [
    "#Read the Dataset\n",
    "loan = pd.read_csv('C:\\ProgramData\\loan.csv',low_memory=False)"
   ]
  },
  {
   "cell_type": "code",
   "execution_count": 4,
   "id": "2ad71ab5",
   "metadata": {},
   "outputs": [
    {
     "name": "stdout",
     "output_type": "stream",
     "text": [
      "<class 'pandas.core.frame.DataFrame'>\n",
      "RangeIndex: 39717 entries, 0 to 39716\n",
      "Columns: 111 entries, id to total_il_high_credit_limit\n",
      "dtypes: float64(74), int64(13), object(24)\n",
      "memory usage: 33.6+ MB\n"
     ]
    }
   ],
   "source": [
    "#Getting more information about the loan.csv file\n",
    "loan.info()\n"
   ]
  },
  {
   "cell_type": "markdown",
   "id": "0fe027b7",
   "metadata": {},
   "source": [
    "# 1. Data Understanding"
   ]
  },
  {
   "cell_type": "code",
   "execution_count": 5,
   "id": "3105af99",
   "metadata": {},
   "outputs": [
    {
     "data": {
      "text/html": [
       "<div>\n",
       "<style scoped>\n",
       "    .dataframe tbody tr th:only-of-type {\n",
       "        vertical-align: middle;\n",
       "    }\n",
       "\n",
       "    .dataframe tbody tr th {\n",
       "        vertical-align: top;\n",
       "    }\n",
       "\n",
       "    .dataframe thead th {\n",
       "        text-align: right;\n",
       "    }\n",
       "</style>\n",
       "<table border=\"1\" class=\"dataframe\">\n",
       "  <thead>\n",
       "    <tr style=\"text-align: right;\">\n",
       "      <th></th>\n",
       "      <th>id</th>\n",
       "      <th>member_id</th>\n",
       "      <th>loan_amnt</th>\n",
       "      <th>funded_amnt</th>\n",
       "      <th>funded_amnt_inv</th>\n",
       "      <th>term</th>\n",
       "      <th>int_rate</th>\n",
       "      <th>installment</th>\n",
       "      <th>grade</th>\n",
       "      <th>sub_grade</th>\n",
       "      <th>...</th>\n",
       "      <th>num_tl_90g_dpd_24m</th>\n",
       "      <th>num_tl_op_past_12m</th>\n",
       "      <th>pct_tl_nvr_dlq</th>\n",
       "      <th>percent_bc_gt_75</th>\n",
       "      <th>pub_rec_bankruptcies</th>\n",
       "      <th>tax_liens</th>\n",
       "      <th>tot_hi_cred_lim</th>\n",
       "      <th>total_bal_ex_mort</th>\n",
       "      <th>total_bc_limit</th>\n",
       "      <th>total_il_high_credit_limit</th>\n",
       "    </tr>\n",
       "  </thead>\n",
       "  <tbody>\n",
       "    <tr>\n",
       "      <th>0</th>\n",
       "      <td>1077501</td>\n",
       "      <td>1296599</td>\n",
       "      <td>5000</td>\n",
       "      <td>5000</td>\n",
       "      <td>4975.0</td>\n",
       "      <td>36 months</td>\n",
       "      <td>10.65%</td>\n",
       "      <td>162.87</td>\n",
       "      <td>B</td>\n",
       "      <td>B2</td>\n",
       "      <td>...</td>\n",
       "      <td>NaN</td>\n",
       "      <td>NaN</td>\n",
       "      <td>NaN</td>\n",
       "      <td>NaN</td>\n",
       "      <td>0.0</td>\n",
       "      <td>0.0</td>\n",
       "      <td>NaN</td>\n",
       "      <td>NaN</td>\n",
       "      <td>NaN</td>\n",
       "      <td>NaN</td>\n",
       "    </tr>\n",
       "    <tr>\n",
       "      <th>1</th>\n",
       "      <td>1077430</td>\n",
       "      <td>1314167</td>\n",
       "      <td>2500</td>\n",
       "      <td>2500</td>\n",
       "      <td>2500.0</td>\n",
       "      <td>60 months</td>\n",
       "      <td>15.27%</td>\n",
       "      <td>59.83</td>\n",
       "      <td>C</td>\n",
       "      <td>C4</td>\n",
       "      <td>...</td>\n",
       "      <td>NaN</td>\n",
       "      <td>NaN</td>\n",
       "      <td>NaN</td>\n",
       "      <td>NaN</td>\n",
       "      <td>0.0</td>\n",
       "      <td>0.0</td>\n",
       "      <td>NaN</td>\n",
       "      <td>NaN</td>\n",
       "      <td>NaN</td>\n",
       "      <td>NaN</td>\n",
       "    </tr>\n",
       "    <tr>\n",
       "      <th>2</th>\n",
       "      <td>1077175</td>\n",
       "      <td>1313524</td>\n",
       "      <td>2400</td>\n",
       "      <td>2400</td>\n",
       "      <td>2400.0</td>\n",
       "      <td>36 months</td>\n",
       "      <td>15.96%</td>\n",
       "      <td>84.33</td>\n",
       "      <td>C</td>\n",
       "      <td>C5</td>\n",
       "      <td>...</td>\n",
       "      <td>NaN</td>\n",
       "      <td>NaN</td>\n",
       "      <td>NaN</td>\n",
       "      <td>NaN</td>\n",
       "      <td>0.0</td>\n",
       "      <td>0.0</td>\n",
       "      <td>NaN</td>\n",
       "      <td>NaN</td>\n",
       "      <td>NaN</td>\n",
       "      <td>NaN</td>\n",
       "    </tr>\n",
       "    <tr>\n",
       "      <th>3</th>\n",
       "      <td>1076863</td>\n",
       "      <td>1277178</td>\n",
       "      <td>10000</td>\n",
       "      <td>10000</td>\n",
       "      <td>10000.0</td>\n",
       "      <td>36 months</td>\n",
       "      <td>13.49%</td>\n",
       "      <td>339.31</td>\n",
       "      <td>C</td>\n",
       "      <td>C1</td>\n",
       "      <td>...</td>\n",
       "      <td>NaN</td>\n",
       "      <td>NaN</td>\n",
       "      <td>NaN</td>\n",
       "      <td>NaN</td>\n",
       "      <td>0.0</td>\n",
       "      <td>0.0</td>\n",
       "      <td>NaN</td>\n",
       "      <td>NaN</td>\n",
       "      <td>NaN</td>\n",
       "      <td>NaN</td>\n",
       "    </tr>\n",
       "    <tr>\n",
       "      <th>4</th>\n",
       "      <td>1075358</td>\n",
       "      <td>1311748</td>\n",
       "      <td>3000</td>\n",
       "      <td>3000</td>\n",
       "      <td>3000.0</td>\n",
       "      <td>60 months</td>\n",
       "      <td>12.69%</td>\n",
       "      <td>67.79</td>\n",
       "      <td>B</td>\n",
       "      <td>B5</td>\n",
       "      <td>...</td>\n",
       "      <td>NaN</td>\n",
       "      <td>NaN</td>\n",
       "      <td>NaN</td>\n",
       "      <td>NaN</td>\n",
       "      <td>0.0</td>\n",
       "      <td>0.0</td>\n",
       "      <td>NaN</td>\n",
       "      <td>NaN</td>\n",
       "      <td>NaN</td>\n",
       "      <td>NaN</td>\n",
       "    </tr>\n",
       "  </tbody>\n",
       "</table>\n",
       "<p>5 rows × 111 columns</p>\n",
       "</div>"
      ],
      "text/plain": [
       "        id  member_id  loan_amnt  funded_amnt  funded_amnt_inv        term  \\\n",
       "0  1077501    1296599       5000         5000           4975.0   36 months   \n",
       "1  1077430    1314167       2500         2500           2500.0   60 months   \n",
       "2  1077175    1313524       2400         2400           2400.0   36 months   \n",
       "3  1076863    1277178      10000        10000          10000.0   36 months   \n",
       "4  1075358    1311748       3000         3000           3000.0   60 months   \n",
       "\n",
       "  int_rate  installment grade sub_grade  ... num_tl_90g_dpd_24m  \\\n",
       "0   10.65%       162.87     B        B2  ...                NaN   \n",
       "1   15.27%        59.83     C        C4  ...                NaN   \n",
       "2   15.96%        84.33     C        C5  ...                NaN   \n",
       "3   13.49%       339.31     C        C1  ...                NaN   \n",
       "4   12.69%        67.79     B        B5  ...                NaN   \n",
       "\n",
       "  num_tl_op_past_12m pct_tl_nvr_dlq  percent_bc_gt_75 pub_rec_bankruptcies  \\\n",
       "0                NaN            NaN               NaN                  0.0   \n",
       "1                NaN            NaN               NaN                  0.0   \n",
       "2                NaN            NaN               NaN                  0.0   \n",
       "3                NaN            NaN               NaN                  0.0   \n",
       "4                NaN            NaN               NaN                  0.0   \n",
       "\n",
       "  tax_liens tot_hi_cred_lim total_bal_ex_mort total_bc_limit  \\\n",
       "0       0.0             NaN               NaN            NaN   \n",
       "1       0.0             NaN               NaN            NaN   \n",
       "2       0.0             NaN               NaN            NaN   \n",
       "3       0.0             NaN               NaN            NaN   \n",
       "4       0.0             NaN               NaN            NaN   \n",
       "\n",
       "  total_il_high_credit_limit  \n",
       "0                        NaN  \n",
       "1                        NaN  \n",
       "2                        NaN  \n",
       "3                        NaN  \n",
       "4                        NaN  \n",
       "\n",
       "[5 rows x 111 columns]"
      ]
     },
     "execution_count": 5,
     "metadata": {},
     "output_type": "execute_result"
    }
   ],
   "source": [
    "#Data Understanding\n",
    "loan.head()"
   ]
  },
  {
   "cell_type": "code",
   "execution_count": 6,
   "id": "bd3e3b10",
   "metadata": {},
   "outputs": [
    {
     "data": {
      "text/plain": [
       "(39717, 111)"
      ]
     },
     "execution_count": 6,
     "metadata": {},
     "output_type": "execute_result"
    }
   ],
   "source": [
    "#Checking the rows and columns\n",
    "loan.shape"
   ]
  },
  {
   "cell_type": "code",
   "execution_count": 7,
   "id": "e82ebca3",
   "metadata": {},
   "outputs": [
    {
     "data": {
      "text/plain": [
       "Index(['id', 'member_id', 'loan_amnt', 'funded_amnt', 'funded_amnt_inv',\n",
       "       'term', 'int_rate', 'installment', 'grade', 'sub_grade',\n",
       "       ...\n",
       "       'num_tl_90g_dpd_24m', 'num_tl_op_past_12m', 'pct_tl_nvr_dlq',\n",
       "       'percent_bc_gt_75', 'pub_rec_bankruptcies', 'tax_liens',\n",
       "       'tot_hi_cred_lim', 'total_bal_ex_mort', 'total_bc_limit',\n",
       "       'total_il_high_credit_limit'],\n",
       "      dtype='object', length=111)"
      ]
     },
     "execution_count": 7,
     "metadata": {},
     "output_type": "execute_result"
    }
   ],
   "source": [
    "#To see the columns\n",
    "loan.columns"
   ]
  },
  {
   "cell_type": "code",
   "execution_count": 8,
   "id": "b0deaff1",
   "metadata": {},
   "outputs": [
    {
     "data": {
      "text/html": [
       "<div>\n",
       "<style scoped>\n",
       "    .dataframe tbody tr th:only-of-type {\n",
       "        vertical-align: middle;\n",
       "    }\n",
       "\n",
       "    .dataframe tbody tr th {\n",
       "        vertical-align: top;\n",
       "    }\n",
       "\n",
       "    .dataframe thead th {\n",
       "        text-align: right;\n",
       "    }\n",
       "</style>\n",
       "<table border=\"1\" class=\"dataframe\">\n",
       "  <thead>\n",
       "    <tr style=\"text-align: right;\">\n",
       "      <th></th>\n",
       "      <th>id</th>\n",
       "      <th>member_id</th>\n",
       "      <th>loan_amnt</th>\n",
       "      <th>funded_amnt</th>\n",
       "      <th>funded_amnt_inv</th>\n",
       "      <th>installment</th>\n",
       "      <th>annual_inc</th>\n",
       "      <th>dti</th>\n",
       "      <th>delinq_2yrs</th>\n",
       "      <th>inq_last_6mths</th>\n",
       "      <th>...</th>\n",
       "      <th>num_tl_90g_dpd_24m</th>\n",
       "      <th>num_tl_op_past_12m</th>\n",
       "      <th>pct_tl_nvr_dlq</th>\n",
       "      <th>percent_bc_gt_75</th>\n",
       "      <th>pub_rec_bankruptcies</th>\n",
       "      <th>tax_liens</th>\n",
       "      <th>tot_hi_cred_lim</th>\n",
       "      <th>total_bal_ex_mort</th>\n",
       "      <th>total_bc_limit</th>\n",
       "      <th>total_il_high_credit_limit</th>\n",
       "    </tr>\n",
       "  </thead>\n",
       "  <tbody>\n",
       "    <tr>\n",
       "      <th>count</th>\n",
       "      <td>3.971700e+04</td>\n",
       "      <td>3.971700e+04</td>\n",
       "      <td>39717.000000</td>\n",
       "      <td>39717.000000</td>\n",
       "      <td>39717.000000</td>\n",
       "      <td>39717.000000</td>\n",
       "      <td>3.971700e+04</td>\n",
       "      <td>39717.000000</td>\n",
       "      <td>39717.000000</td>\n",
       "      <td>39717.000000</td>\n",
       "      <td>...</td>\n",
       "      <td>0.0</td>\n",
       "      <td>0.0</td>\n",
       "      <td>0.0</td>\n",
       "      <td>0.0</td>\n",
       "      <td>39020.000000</td>\n",
       "      <td>39678.0</td>\n",
       "      <td>0.0</td>\n",
       "      <td>0.0</td>\n",
       "      <td>0.0</td>\n",
       "      <td>0.0</td>\n",
       "    </tr>\n",
       "    <tr>\n",
       "      <th>mean</th>\n",
       "      <td>6.831319e+05</td>\n",
       "      <td>8.504636e+05</td>\n",
       "      <td>11219.443815</td>\n",
       "      <td>10947.713196</td>\n",
       "      <td>10397.448868</td>\n",
       "      <td>324.561922</td>\n",
       "      <td>6.896893e+04</td>\n",
       "      <td>13.315130</td>\n",
       "      <td>0.146512</td>\n",
       "      <td>0.869200</td>\n",
       "      <td>...</td>\n",
       "      <td>NaN</td>\n",
       "      <td>NaN</td>\n",
       "      <td>NaN</td>\n",
       "      <td>NaN</td>\n",
       "      <td>0.043260</td>\n",
       "      <td>0.0</td>\n",
       "      <td>NaN</td>\n",
       "      <td>NaN</td>\n",
       "      <td>NaN</td>\n",
       "      <td>NaN</td>\n",
       "    </tr>\n",
       "    <tr>\n",
       "      <th>std</th>\n",
       "      <td>2.106941e+05</td>\n",
       "      <td>2.656783e+05</td>\n",
       "      <td>7456.670694</td>\n",
       "      <td>7187.238670</td>\n",
       "      <td>7128.450439</td>\n",
       "      <td>208.874874</td>\n",
       "      <td>6.379377e+04</td>\n",
       "      <td>6.678594</td>\n",
       "      <td>0.491812</td>\n",
       "      <td>1.070219</td>\n",
       "      <td>...</td>\n",
       "      <td>NaN</td>\n",
       "      <td>NaN</td>\n",
       "      <td>NaN</td>\n",
       "      <td>NaN</td>\n",
       "      <td>0.204324</td>\n",
       "      <td>0.0</td>\n",
       "      <td>NaN</td>\n",
       "      <td>NaN</td>\n",
       "      <td>NaN</td>\n",
       "      <td>NaN</td>\n",
       "    </tr>\n",
       "    <tr>\n",
       "      <th>min</th>\n",
       "      <td>5.473400e+04</td>\n",
       "      <td>7.069900e+04</td>\n",
       "      <td>500.000000</td>\n",
       "      <td>500.000000</td>\n",
       "      <td>0.000000</td>\n",
       "      <td>15.690000</td>\n",
       "      <td>4.000000e+03</td>\n",
       "      <td>0.000000</td>\n",
       "      <td>0.000000</td>\n",
       "      <td>0.000000</td>\n",
       "      <td>...</td>\n",
       "      <td>NaN</td>\n",
       "      <td>NaN</td>\n",
       "      <td>NaN</td>\n",
       "      <td>NaN</td>\n",
       "      <td>0.000000</td>\n",
       "      <td>0.0</td>\n",
       "      <td>NaN</td>\n",
       "      <td>NaN</td>\n",
       "      <td>NaN</td>\n",
       "      <td>NaN</td>\n",
       "    </tr>\n",
       "    <tr>\n",
       "      <th>25%</th>\n",
       "      <td>5.162210e+05</td>\n",
       "      <td>6.667800e+05</td>\n",
       "      <td>5500.000000</td>\n",
       "      <td>5400.000000</td>\n",
       "      <td>5000.000000</td>\n",
       "      <td>167.020000</td>\n",
       "      <td>4.040400e+04</td>\n",
       "      <td>8.170000</td>\n",
       "      <td>0.000000</td>\n",
       "      <td>0.000000</td>\n",
       "      <td>...</td>\n",
       "      <td>NaN</td>\n",
       "      <td>NaN</td>\n",
       "      <td>NaN</td>\n",
       "      <td>NaN</td>\n",
       "      <td>0.000000</td>\n",
       "      <td>0.0</td>\n",
       "      <td>NaN</td>\n",
       "      <td>NaN</td>\n",
       "      <td>NaN</td>\n",
       "      <td>NaN</td>\n",
       "    </tr>\n",
       "    <tr>\n",
       "      <th>50%</th>\n",
       "      <td>6.656650e+05</td>\n",
       "      <td>8.508120e+05</td>\n",
       "      <td>10000.000000</td>\n",
       "      <td>9600.000000</td>\n",
       "      <td>8975.000000</td>\n",
       "      <td>280.220000</td>\n",
       "      <td>5.900000e+04</td>\n",
       "      <td>13.400000</td>\n",
       "      <td>0.000000</td>\n",
       "      <td>1.000000</td>\n",
       "      <td>...</td>\n",
       "      <td>NaN</td>\n",
       "      <td>NaN</td>\n",
       "      <td>NaN</td>\n",
       "      <td>NaN</td>\n",
       "      <td>0.000000</td>\n",
       "      <td>0.0</td>\n",
       "      <td>NaN</td>\n",
       "      <td>NaN</td>\n",
       "      <td>NaN</td>\n",
       "      <td>NaN</td>\n",
       "    </tr>\n",
       "    <tr>\n",
       "      <th>75%</th>\n",
       "      <td>8.377550e+05</td>\n",
       "      <td>1.047339e+06</td>\n",
       "      <td>15000.000000</td>\n",
       "      <td>15000.000000</td>\n",
       "      <td>14400.000000</td>\n",
       "      <td>430.780000</td>\n",
       "      <td>8.230000e+04</td>\n",
       "      <td>18.600000</td>\n",
       "      <td>0.000000</td>\n",
       "      <td>1.000000</td>\n",
       "      <td>...</td>\n",
       "      <td>NaN</td>\n",
       "      <td>NaN</td>\n",
       "      <td>NaN</td>\n",
       "      <td>NaN</td>\n",
       "      <td>0.000000</td>\n",
       "      <td>0.0</td>\n",
       "      <td>NaN</td>\n",
       "      <td>NaN</td>\n",
       "      <td>NaN</td>\n",
       "      <td>NaN</td>\n",
       "    </tr>\n",
       "    <tr>\n",
       "      <th>max</th>\n",
       "      <td>1.077501e+06</td>\n",
       "      <td>1.314167e+06</td>\n",
       "      <td>35000.000000</td>\n",
       "      <td>35000.000000</td>\n",
       "      <td>35000.000000</td>\n",
       "      <td>1305.190000</td>\n",
       "      <td>6.000000e+06</td>\n",
       "      <td>29.990000</td>\n",
       "      <td>11.000000</td>\n",
       "      <td>8.000000</td>\n",
       "      <td>...</td>\n",
       "      <td>NaN</td>\n",
       "      <td>NaN</td>\n",
       "      <td>NaN</td>\n",
       "      <td>NaN</td>\n",
       "      <td>2.000000</td>\n",
       "      <td>0.0</td>\n",
       "      <td>NaN</td>\n",
       "      <td>NaN</td>\n",
       "      <td>NaN</td>\n",
       "      <td>NaN</td>\n",
       "    </tr>\n",
       "  </tbody>\n",
       "</table>\n",
       "<p>8 rows × 87 columns</p>\n",
       "</div>"
      ],
      "text/plain": [
       "                 id     member_id     loan_amnt   funded_amnt  \\\n",
       "count  3.971700e+04  3.971700e+04  39717.000000  39717.000000   \n",
       "mean   6.831319e+05  8.504636e+05  11219.443815  10947.713196   \n",
       "std    2.106941e+05  2.656783e+05   7456.670694   7187.238670   \n",
       "min    5.473400e+04  7.069900e+04    500.000000    500.000000   \n",
       "25%    5.162210e+05  6.667800e+05   5500.000000   5400.000000   \n",
       "50%    6.656650e+05  8.508120e+05  10000.000000   9600.000000   \n",
       "75%    8.377550e+05  1.047339e+06  15000.000000  15000.000000   \n",
       "max    1.077501e+06  1.314167e+06  35000.000000  35000.000000   \n",
       "\n",
       "       funded_amnt_inv   installment    annual_inc           dti  \\\n",
       "count     39717.000000  39717.000000  3.971700e+04  39717.000000   \n",
       "mean      10397.448868    324.561922  6.896893e+04     13.315130   \n",
       "std        7128.450439    208.874874  6.379377e+04      6.678594   \n",
       "min           0.000000     15.690000  4.000000e+03      0.000000   \n",
       "25%        5000.000000    167.020000  4.040400e+04      8.170000   \n",
       "50%        8975.000000    280.220000  5.900000e+04     13.400000   \n",
       "75%       14400.000000    430.780000  8.230000e+04     18.600000   \n",
       "max       35000.000000   1305.190000  6.000000e+06     29.990000   \n",
       "\n",
       "        delinq_2yrs  inq_last_6mths  ...  num_tl_90g_dpd_24m  \\\n",
       "count  39717.000000    39717.000000  ...                 0.0   \n",
       "mean       0.146512        0.869200  ...                 NaN   \n",
       "std        0.491812        1.070219  ...                 NaN   \n",
       "min        0.000000        0.000000  ...                 NaN   \n",
       "25%        0.000000        0.000000  ...                 NaN   \n",
       "50%        0.000000        1.000000  ...                 NaN   \n",
       "75%        0.000000        1.000000  ...                 NaN   \n",
       "max       11.000000        8.000000  ...                 NaN   \n",
       "\n",
       "       num_tl_op_past_12m  pct_tl_nvr_dlq  percent_bc_gt_75  \\\n",
       "count                 0.0             0.0               0.0   \n",
       "mean                  NaN             NaN               NaN   \n",
       "std                   NaN             NaN               NaN   \n",
       "min                   NaN             NaN               NaN   \n",
       "25%                   NaN             NaN               NaN   \n",
       "50%                   NaN             NaN               NaN   \n",
       "75%                   NaN             NaN               NaN   \n",
       "max                   NaN             NaN               NaN   \n",
       "\n",
       "       pub_rec_bankruptcies  tax_liens  tot_hi_cred_lim  total_bal_ex_mort  \\\n",
       "count          39020.000000    39678.0              0.0                0.0   \n",
       "mean               0.043260        0.0              NaN                NaN   \n",
       "std                0.204324        0.0              NaN                NaN   \n",
       "min                0.000000        0.0              NaN                NaN   \n",
       "25%                0.000000        0.0              NaN                NaN   \n",
       "50%                0.000000        0.0              NaN                NaN   \n",
       "75%                0.000000        0.0              NaN                NaN   \n",
       "max                2.000000        0.0              NaN                NaN   \n",
       "\n",
       "       total_bc_limit  total_il_high_credit_limit  \n",
       "count             0.0                         0.0  \n",
       "mean              NaN                         NaN  \n",
       "std               NaN                         NaN  \n",
       "min               NaN                         NaN  \n",
       "25%               NaN                         NaN  \n",
       "50%               NaN                         NaN  \n",
       "75%               NaN                         NaN  \n",
       "max               NaN                         NaN  \n",
       "\n",
       "[8 rows x 87 columns]"
      ]
     },
     "execution_count": 8,
     "metadata": {},
     "output_type": "execute_result"
    }
   ],
   "source": [
    "#To find the description .Note : Description is available only for 87 columns out of the 111 columns\n",
    "loan.describe()"
   ]
  },
  {
   "cell_type": "markdown",
   "id": "3e3652d7",
   "metadata": {},
   "source": [
    "# 2. Data Cleaning and Manipulation"
   ]
  },
  {
   "cell_type": "code",
   "execution_count": 11,
   "id": "e6ee6c59",
   "metadata": {},
   "outputs": [
    {
     "data": {
      "text/plain": [
       "id                                0\n",
       "member_id                         0\n",
       "loan_amnt                         0\n",
       "funded_amnt                       0\n",
       "funded_amnt_inv                   0\n",
       "                              ...  \n",
       "tax_liens                        39\n",
       "tot_hi_cred_lim               39717\n",
       "total_bal_ex_mort             39717\n",
       "total_bc_limit                39717\n",
       "total_il_high_credit_limit    39717\n",
       "Length: 111, dtype: int64"
      ]
     },
     "execution_count": 11,
     "metadata": {},
     "output_type": "execute_result"
    }
   ],
   "source": [
    "#To Find out how many values are null - by default column wise\n",
    "loan.isnull().sum()"
   ]
  },
  {
   "cell_type": "code",
   "execution_count": 13,
   "id": "8d4e3f29",
   "metadata": {},
   "outputs": [],
   "source": [
    "#Inference from above : 100% of the values are blank"
   ]
  },
  {
   "cell_type": "code",
   "execution_count": 12,
   "id": "0833b3c4",
   "metadata": {},
   "outputs": [
    {
     "name": "stdout",
     "output_type": "stream",
     "text": [
      "Index(['mths_since_last_record', 'next_pymnt_d', 'mths_since_last_major_derog',\n",
      "       'annual_inc_joint', 'dti_joint', 'verification_status_joint',\n",
      "       'tot_coll_amt', 'tot_cur_bal', 'open_acc_6m', 'open_il_6m',\n",
      "       'open_il_12m', 'open_il_24m', 'mths_since_rcnt_il', 'total_bal_il',\n",
      "       'il_util', 'open_rv_12m', 'open_rv_24m', 'max_bal_bc', 'all_util',\n",
      "       'total_rev_hi_lim', 'inq_fi', 'total_cu_tl', 'inq_last_12m',\n",
      "       'acc_open_past_24mths', 'avg_cur_bal', 'bc_open_to_buy', 'bc_util',\n",
      "       'mo_sin_old_il_acct', 'mo_sin_old_rev_tl_op', 'mo_sin_rcnt_rev_tl_op',\n",
      "       'mo_sin_rcnt_tl', 'mort_acc', 'mths_since_recent_bc',\n",
      "       'mths_since_recent_bc_dlq', 'mths_since_recent_inq',\n",
      "       'mths_since_recent_revol_delinq', 'num_accts_ever_120_pd',\n",
      "       'num_actv_bc_tl', 'num_actv_rev_tl', 'num_bc_sats', 'num_bc_tl',\n",
      "       'num_il_tl', 'num_op_rev_tl', 'num_rev_accts', 'num_rev_tl_bal_gt_0',\n",
      "       'num_sats', 'num_tl_120dpd_2m', 'num_tl_30dpd', 'num_tl_90g_dpd_24m',\n",
      "       'num_tl_op_past_12m', 'pct_tl_nvr_dlq', 'percent_bc_gt_75',\n",
      "       'tot_hi_cred_lim', 'total_bal_ex_mort', 'total_bc_limit',\n",
      "       'total_il_high_credit_limit'],\n",
      "      dtype='object')\n"
     ]
    }
   ],
   "source": [
    "#List of all the missing columns\n",
    "#We can also use % of null values to identify missing columns 100*(loan.isnull().sum()/len(loan.index))\n",
    "#Since we are not applying Machine learning model we need not remove these columns 100%\n",
    "mis_columns= loan.columns[loan.isnull().sum()>30000]\n",
    "print(mis_columns)"
   ]
  },
  {
   "cell_type": "code",
   "execution_count": 13,
   "id": "b58f5461",
   "metadata": {},
   "outputs": [],
   "source": [
    "#Dropping all the missing columns \n",
    "df=loan.drop(mis_columns,axis=1)"
   ]
  },
  {
   "cell_type": "code",
   "execution_count": 14,
   "id": "492c6a45",
   "metadata": {},
   "outputs": [
    {
     "data": {
      "text/plain": [
       "(39717, 55)"
      ]
     },
     "execution_count": 14,
     "metadata": {},
     "output_type": "execute_result"
    }
   ],
   "source": [
    "#Checking the columns left after dropping missing columns\n",
    "df.shape\n"
   ]
  },
  {
   "cell_type": "code",
   "execution_count": 15,
   "id": "54a1bb24",
   "metadata": {},
   "outputs": [],
   "source": [
    "#Dropping the Description column as its not required for Data Analysis\n",
    "df=df.drop(['desc'],axis=1)"
   ]
  },
  {
   "cell_type": "code",
   "execution_count": 16,
   "id": "1e23f1e3",
   "metadata": {},
   "outputs": [
    {
     "data": {
      "text/plain": [
       "(39717, 54)"
      ]
     },
     "execution_count": 16,
     "metadata": {},
     "output_type": "execute_result"
    }
   ],
   "source": [
    "#Checking the shape again\n",
    "df.shape"
   ]
  },
  {
   "cell_type": "code",
   "execution_count": 17,
   "id": "4887c635",
   "metadata": {},
   "outputs": [
    {
     "data": {
      "text/plain": [
       "0        2\n",
       "1        1\n",
       "2        2\n",
       "3        0\n",
       "4        0\n",
       "        ..\n",
       "39712    4\n",
       "39713    4\n",
       "39714    5\n",
       "39715    5\n",
       "39716    4\n",
       "Length: 39717, dtype: int64"
      ]
     },
     "execution_count": 17,
     "metadata": {},
     "output_type": "execute_result"
    }
   ],
   "source": [
    "#Identifying missing values in rows\n",
    "df.isnull().sum(axis=1)"
   ]
  },
  {
   "cell_type": "code",
   "execution_count": 18,
   "id": "083789b8",
   "metadata": {},
   "outputs": [
    {
     "data": {
      "text/plain": [
       "2"
      ]
     },
     "execution_count": 18,
     "metadata": {},
     "output_type": "execute_result"
    }
   ],
   "source": [
    "#Identifying missing values > 5 in rows .There are 2 rows with missing value > 5.\n",
    "len(df[df.isnull().sum(axis=1)>5].index)"
   ]
  },
  {
   "cell_type": "code",
   "execution_count": 19,
   "id": "fabeb921",
   "metadata": {},
   "outputs": [],
   "source": [
    "#Dropping rows for which the null values > 5\n",
    "df=df.drop(df[df.isnull().sum(axis=1)>5].index,axis=0)"
   ]
  },
  {
   "cell_type": "code",
   "execution_count": 20,
   "id": "e5476ca5",
   "metadata": {},
   "outputs": [
    {
     "data": {
      "text/plain": [
       "0"
      ]
     },
     "execution_count": 20,
     "metadata": {},
     "output_type": "execute_result"
    }
   ],
   "source": [
    "#Checking if 2 rows dropped .output should be zero\n",
    "len(df[df.isnull().sum(axis=1)>5].index)"
   ]
  },
  {
   "cell_type": "code",
   "execution_count": 21,
   "id": "f5e15f5f",
   "metadata": {},
   "outputs": [
    {
     "data": {
      "text/plain": [
       "(39715, 54)"
      ]
     },
     "execution_count": 21,
     "metadata": {},
     "output_type": "execute_result"
    }
   ],
   "source": [
    "#Checking the final Shape\n",
    "df.shape"
   ]
  },
  {
   "cell_type": "code",
   "execution_count": 174,
   "id": "ec8616c9",
   "metadata": {},
   "outputs": [
    {
     "name": "stdout",
     "output_type": "stream",
     "text": [
      "<class 'pandas.core.frame.DataFrame'>\n",
      "Index: 39715 entries, 0 to 39716\n",
      "Data columns (total 54 columns):\n",
      " #   Column                      Non-Null Count  Dtype  \n",
      "---  ------                      --------------  -----  \n",
      " 0   id                          39715 non-null  int64  \n",
      " 1   member_id                   39715 non-null  int64  \n",
      " 2   loan_amnt                   39715 non-null  int64  \n",
      " 3   funded_amnt                 39715 non-null  int64  \n",
      " 4   funded_amnt_inv             39715 non-null  float64\n",
      " 5   term                        39715 non-null  object \n",
      " 6   int_rate                    39715 non-null  object \n",
      " 7   installment                 39715 non-null  float64\n",
      " 8   grade                       39715 non-null  object \n",
      " 9   sub_grade                   39715 non-null  object \n",
      " 10  emp_title                   37258 non-null  object \n",
      " 11  emp_length                  38640 non-null  object \n",
      " 12  home_ownership              39715 non-null  object \n",
      " 13  annual_inc                  39715 non-null  float64\n",
      " 14  verification_status         39715 non-null  object \n",
      " 15  issue_d                     39715 non-null  object \n",
      " 16  loan_status                 39715 non-null  object \n",
      " 17  pymnt_plan                  39715 non-null  object \n",
      " 18  url                         39715 non-null  object \n",
      " 19  purpose                     39715 non-null  object \n",
      " 20  title                       39704 non-null  object \n",
      " 21  zip_code                    39715 non-null  object \n",
      " 22  addr_state                  39715 non-null  object \n",
      " 23  dti                         39715 non-null  float64\n",
      " 24  delinq_2yrs                 39715 non-null  int64  \n",
      " 25  earliest_cr_line            39715 non-null  object \n",
      " 26  inq_last_6mths              39715 non-null  int64  \n",
      " 27  mths_since_last_delinq      14035 non-null  float64\n",
      " 28  open_acc                    39715 non-null  int64  \n",
      " 29  pub_rec                     39715 non-null  int64  \n",
      " 30  revol_bal                   39715 non-null  int64  \n",
      " 31  revol_util                  39665 non-null  object \n",
      " 32  total_acc                   39715 non-null  int64  \n",
      " 33  initial_list_status         39715 non-null  object \n",
      " 34  out_prncp                   39715 non-null  float64\n",
      " 35  out_prncp_inv               39715 non-null  float64\n",
      " 36  total_pymnt                 39715 non-null  float64\n",
      " 37  total_pymnt_inv             39715 non-null  float64\n",
      " 38  total_rec_prncp             39715 non-null  float64\n",
      " 39  total_rec_int               39715 non-null  float64\n",
      " 40  total_rec_late_fee          39715 non-null  float64\n",
      " 41  recoveries                  39715 non-null  float64\n",
      " 42  collection_recovery_fee     39715 non-null  float64\n",
      " 43  last_pymnt_d                39644 non-null  object \n",
      " 44  last_pymnt_amnt             39715 non-null  float64\n",
      " 45  last_credit_pull_d          39713 non-null  object \n",
      " 46  collections_12_mths_ex_med  39661 non-null  float64\n",
      " 47  policy_code                 39715 non-null  int64  \n",
      " 48  application_type            39715 non-null  object \n",
      " 49  acc_now_delinq              39715 non-null  int64  \n",
      " 50  chargeoff_within_12_mths    39661 non-null  float64\n",
      " 51  delinq_amnt                 39715 non-null  int64  \n",
      " 52  pub_rec_bankruptcies        39020 non-null  float64\n",
      " 53  tax_liens                   39678 non-null  float64\n",
      "dtypes: float64(19), int64(13), object(22)\n",
      "memory usage: 16.7+ MB\n"
     ]
    }
   ],
   "source": [
    "#Next Step is to check whether all the columns are in the correct format or not\n",
    "df.info()"
   ]
  },
  {
   "cell_type": "code",
   "execution_count": 22,
   "id": "01c2bce7",
   "metadata": {},
   "outputs": [
    {
     "data": {
      "text/html": [
       "<div>\n",
       "<style scoped>\n",
       "    .dataframe tbody tr th:only-of-type {\n",
       "        vertical-align: middle;\n",
       "    }\n",
       "\n",
       "    .dataframe tbody tr th {\n",
       "        vertical-align: top;\n",
       "    }\n",
       "\n",
       "    .dataframe thead th {\n",
       "        text-align: right;\n",
       "    }\n",
       "</style>\n",
       "<table border=\"1\" class=\"dataframe\">\n",
       "  <thead>\n",
       "    <tr style=\"text-align: right;\">\n",
       "      <th></th>\n",
       "      <th>id</th>\n",
       "      <th>member_id</th>\n",
       "      <th>loan_amnt</th>\n",
       "      <th>funded_amnt</th>\n",
       "      <th>funded_amnt_inv</th>\n",
       "      <th>term</th>\n",
       "      <th>int_rate</th>\n",
       "      <th>installment</th>\n",
       "      <th>grade</th>\n",
       "      <th>sub_grade</th>\n",
       "      <th>...</th>\n",
       "      <th>last_pymnt_amnt</th>\n",
       "      <th>last_credit_pull_d</th>\n",
       "      <th>collections_12_mths_ex_med</th>\n",
       "      <th>policy_code</th>\n",
       "      <th>application_type</th>\n",
       "      <th>acc_now_delinq</th>\n",
       "      <th>chargeoff_within_12_mths</th>\n",
       "      <th>delinq_amnt</th>\n",
       "      <th>pub_rec_bankruptcies</th>\n",
       "      <th>tax_liens</th>\n",
       "    </tr>\n",
       "  </thead>\n",
       "  <tbody>\n",
       "    <tr>\n",
       "      <th>0</th>\n",
       "      <td>1077501</td>\n",
       "      <td>1296599</td>\n",
       "      <td>5000</td>\n",
       "      <td>5000</td>\n",
       "      <td>4975.0</td>\n",
       "      <td>36 months</td>\n",
       "      <td>10.65%</td>\n",
       "      <td>162.87</td>\n",
       "      <td>B</td>\n",
       "      <td>B2</td>\n",
       "      <td>...</td>\n",
       "      <td>171.62</td>\n",
       "      <td>May-16</td>\n",
       "      <td>0.0</td>\n",
       "      <td>1</td>\n",
       "      <td>INDIVIDUAL</td>\n",
       "      <td>0</td>\n",
       "      <td>0.0</td>\n",
       "      <td>0</td>\n",
       "      <td>0.0</td>\n",
       "      <td>0.0</td>\n",
       "    </tr>\n",
       "    <tr>\n",
       "      <th>1</th>\n",
       "      <td>1077430</td>\n",
       "      <td>1314167</td>\n",
       "      <td>2500</td>\n",
       "      <td>2500</td>\n",
       "      <td>2500.0</td>\n",
       "      <td>60 months</td>\n",
       "      <td>15.27%</td>\n",
       "      <td>59.83</td>\n",
       "      <td>C</td>\n",
       "      <td>C4</td>\n",
       "      <td>...</td>\n",
       "      <td>119.66</td>\n",
       "      <td>Sep-13</td>\n",
       "      <td>0.0</td>\n",
       "      <td>1</td>\n",
       "      <td>INDIVIDUAL</td>\n",
       "      <td>0</td>\n",
       "      <td>0.0</td>\n",
       "      <td>0</td>\n",
       "      <td>0.0</td>\n",
       "      <td>0.0</td>\n",
       "    </tr>\n",
       "    <tr>\n",
       "      <th>2</th>\n",
       "      <td>1077175</td>\n",
       "      <td>1313524</td>\n",
       "      <td>2400</td>\n",
       "      <td>2400</td>\n",
       "      <td>2400.0</td>\n",
       "      <td>36 months</td>\n",
       "      <td>15.96%</td>\n",
       "      <td>84.33</td>\n",
       "      <td>C</td>\n",
       "      <td>C5</td>\n",
       "      <td>...</td>\n",
       "      <td>649.91</td>\n",
       "      <td>May-16</td>\n",
       "      <td>0.0</td>\n",
       "      <td>1</td>\n",
       "      <td>INDIVIDUAL</td>\n",
       "      <td>0</td>\n",
       "      <td>0.0</td>\n",
       "      <td>0</td>\n",
       "      <td>0.0</td>\n",
       "      <td>0.0</td>\n",
       "    </tr>\n",
       "    <tr>\n",
       "      <th>3</th>\n",
       "      <td>1076863</td>\n",
       "      <td>1277178</td>\n",
       "      <td>10000</td>\n",
       "      <td>10000</td>\n",
       "      <td>10000.0</td>\n",
       "      <td>36 months</td>\n",
       "      <td>13.49%</td>\n",
       "      <td>339.31</td>\n",
       "      <td>C</td>\n",
       "      <td>C1</td>\n",
       "      <td>...</td>\n",
       "      <td>357.48</td>\n",
       "      <td>Apr-16</td>\n",
       "      <td>0.0</td>\n",
       "      <td>1</td>\n",
       "      <td>INDIVIDUAL</td>\n",
       "      <td>0</td>\n",
       "      <td>0.0</td>\n",
       "      <td>0</td>\n",
       "      <td>0.0</td>\n",
       "      <td>0.0</td>\n",
       "    </tr>\n",
       "    <tr>\n",
       "      <th>4</th>\n",
       "      <td>1075358</td>\n",
       "      <td>1311748</td>\n",
       "      <td>3000</td>\n",
       "      <td>3000</td>\n",
       "      <td>3000.0</td>\n",
       "      <td>60 months</td>\n",
       "      <td>12.69%</td>\n",
       "      <td>67.79</td>\n",
       "      <td>B</td>\n",
       "      <td>B5</td>\n",
       "      <td>...</td>\n",
       "      <td>67.79</td>\n",
       "      <td>May-16</td>\n",
       "      <td>0.0</td>\n",
       "      <td>1</td>\n",
       "      <td>INDIVIDUAL</td>\n",
       "      <td>0</td>\n",
       "      <td>0.0</td>\n",
       "      <td>0</td>\n",
       "      <td>0.0</td>\n",
       "      <td>0.0</td>\n",
       "    </tr>\n",
       "  </tbody>\n",
       "</table>\n",
       "<p>5 rows × 54 columns</p>\n",
       "</div>"
      ],
      "text/plain": [
       "        id  member_id  loan_amnt  funded_amnt  funded_amnt_inv        term  \\\n",
       "0  1077501    1296599       5000         5000           4975.0   36 months   \n",
       "1  1077430    1314167       2500         2500           2500.0   60 months   \n",
       "2  1077175    1313524       2400         2400           2400.0   36 months   \n",
       "3  1076863    1277178      10000        10000          10000.0   36 months   \n",
       "4  1075358    1311748       3000         3000           3000.0   60 months   \n",
       "\n",
       "  int_rate  installment grade sub_grade  ... last_pymnt_amnt  \\\n",
       "0   10.65%       162.87     B        B2  ...          171.62   \n",
       "1   15.27%        59.83     C        C4  ...          119.66   \n",
       "2   15.96%        84.33     C        C5  ...          649.91   \n",
       "3   13.49%       339.31     C        C1  ...          357.48   \n",
       "4   12.69%        67.79     B        B5  ...           67.79   \n",
       "\n",
       "  last_credit_pull_d collections_12_mths_ex_med  policy_code application_type  \\\n",
       "0             May-16                        0.0            1       INDIVIDUAL   \n",
       "1             Sep-13                        0.0            1       INDIVIDUAL   \n",
       "2             May-16                        0.0            1       INDIVIDUAL   \n",
       "3             Apr-16                        0.0            1       INDIVIDUAL   \n",
       "4             May-16                        0.0            1       INDIVIDUAL   \n",
       "\n",
       "  acc_now_delinq chargeoff_within_12_mths delinq_amnt pub_rec_bankruptcies  \\\n",
       "0              0                      0.0           0                  0.0   \n",
       "1              0                      0.0           0                  0.0   \n",
       "2              0                      0.0           0                  0.0   \n",
       "3              0                      0.0           0                  0.0   \n",
       "4              0                      0.0           0                  0.0   \n",
       "\n",
       "  tax_liens  \n",
       "0       0.0  \n",
       "1       0.0  \n",
       "2       0.0  \n",
       "3       0.0  \n",
       "4       0.0  \n",
       "\n",
       "[5 rows x 54 columns]"
      ]
     },
     "execution_count": 22,
     "metadata": {},
     "output_type": "execute_result"
    }
   ],
   "source": [
    "#Analysis for above is that interest rate is an object which needs to be numeric data. Interest rate should be numeric and not string\n",
    "#Therefore the  % has to be removed\n",
    "df.head()\n"
   ]
  },
  {
   "cell_type": "code",
   "execution_count": 23,
   "id": "8f3fb45c",
   "metadata": {},
   "outputs": [],
   "source": [
    "#Apply Lambda to change string to numeric\n",
    "df['int_rate']=df['int_rate'].apply(lambda x:pd.to_numeric(x.split('%')[0]))"
   ]
  },
  {
   "cell_type": "code",
   "execution_count": 24,
   "id": "e6d762bf",
   "metadata": {},
   "outputs": [
    {
     "data": {
      "text/html": [
       "<div>\n",
       "<style scoped>\n",
       "    .dataframe tbody tr th:only-of-type {\n",
       "        vertical-align: middle;\n",
       "    }\n",
       "\n",
       "    .dataframe tbody tr th {\n",
       "        vertical-align: top;\n",
       "    }\n",
       "\n",
       "    .dataframe thead th {\n",
       "        text-align: right;\n",
       "    }\n",
       "</style>\n",
       "<table border=\"1\" class=\"dataframe\">\n",
       "  <thead>\n",
       "    <tr style=\"text-align: right;\">\n",
       "      <th></th>\n",
       "      <th>id</th>\n",
       "      <th>member_id</th>\n",
       "      <th>loan_amnt</th>\n",
       "      <th>funded_amnt</th>\n",
       "      <th>funded_amnt_inv</th>\n",
       "      <th>term</th>\n",
       "      <th>int_rate</th>\n",
       "      <th>installment</th>\n",
       "      <th>grade</th>\n",
       "      <th>sub_grade</th>\n",
       "      <th>...</th>\n",
       "      <th>last_pymnt_amnt</th>\n",
       "      <th>last_credit_pull_d</th>\n",
       "      <th>collections_12_mths_ex_med</th>\n",
       "      <th>policy_code</th>\n",
       "      <th>application_type</th>\n",
       "      <th>acc_now_delinq</th>\n",
       "      <th>chargeoff_within_12_mths</th>\n",
       "      <th>delinq_amnt</th>\n",
       "      <th>pub_rec_bankruptcies</th>\n",
       "      <th>tax_liens</th>\n",
       "    </tr>\n",
       "  </thead>\n",
       "  <tbody>\n",
       "    <tr>\n",
       "      <th>0</th>\n",
       "      <td>1077501</td>\n",
       "      <td>1296599</td>\n",
       "      <td>5000</td>\n",
       "      <td>5000</td>\n",
       "      <td>4975.0</td>\n",
       "      <td>36 months</td>\n",
       "      <td>10.65</td>\n",
       "      <td>162.87</td>\n",
       "      <td>B</td>\n",
       "      <td>B2</td>\n",
       "      <td>...</td>\n",
       "      <td>171.62</td>\n",
       "      <td>May-16</td>\n",
       "      <td>0.0</td>\n",
       "      <td>1</td>\n",
       "      <td>INDIVIDUAL</td>\n",
       "      <td>0</td>\n",
       "      <td>0.0</td>\n",
       "      <td>0</td>\n",
       "      <td>0.0</td>\n",
       "      <td>0.0</td>\n",
       "    </tr>\n",
       "    <tr>\n",
       "      <th>1</th>\n",
       "      <td>1077430</td>\n",
       "      <td>1314167</td>\n",
       "      <td>2500</td>\n",
       "      <td>2500</td>\n",
       "      <td>2500.0</td>\n",
       "      <td>60 months</td>\n",
       "      <td>15.27</td>\n",
       "      <td>59.83</td>\n",
       "      <td>C</td>\n",
       "      <td>C4</td>\n",
       "      <td>...</td>\n",
       "      <td>119.66</td>\n",
       "      <td>Sep-13</td>\n",
       "      <td>0.0</td>\n",
       "      <td>1</td>\n",
       "      <td>INDIVIDUAL</td>\n",
       "      <td>0</td>\n",
       "      <td>0.0</td>\n",
       "      <td>0</td>\n",
       "      <td>0.0</td>\n",
       "      <td>0.0</td>\n",
       "    </tr>\n",
       "    <tr>\n",
       "      <th>2</th>\n",
       "      <td>1077175</td>\n",
       "      <td>1313524</td>\n",
       "      <td>2400</td>\n",
       "      <td>2400</td>\n",
       "      <td>2400.0</td>\n",
       "      <td>36 months</td>\n",
       "      <td>15.96</td>\n",
       "      <td>84.33</td>\n",
       "      <td>C</td>\n",
       "      <td>C5</td>\n",
       "      <td>...</td>\n",
       "      <td>649.91</td>\n",
       "      <td>May-16</td>\n",
       "      <td>0.0</td>\n",
       "      <td>1</td>\n",
       "      <td>INDIVIDUAL</td>\n",
       "      <td>0</td>\n",
       "      <td>0.0</td>\n",
       "      <td>0</td>\n",
       "      <td>0.0</td>\n",
       "      <td>0.0</td>\n",
       "    </tr>\n",
       "    <tr>\n",
       "      <th>3</th>\n",
       "      <td>1076863</td>\n",
       "      <td>1277178</td>\n",
       "      <td>10000</td>\n",
       "      <td>10000</td>\n",
       "      <td>10000.0</td>\n",
       "      <td>36 months</td>\n",
       "      <td>13.49</td>\n",
       "      <td>339.31</td>\n",
       "      <td>C</td>\n",
       "      <td>C1</td>\n",
       "      <td>...</td>\n",
       "      <td>357.48</td>\n",
       "      <td>Apr-16</td>\n",
       "      <td>0.0</td>\n",
       "      <td>1</td>\n",
       "      <td>INDIVIDUAL</td>\n",
       "      <td>0</td>\n",
       "      <td>0.0</td>\n",
       "      <td>0</td>\n",
       "      <td>0.0</td>\n",
       "      <td>0.0</td>\n",
       "    </tr>\n",
       "    <tr>\n",
       "      <th>4</th>\n",
       "      <td>1075358</td>\n",
       "      <td>1311748</td>\n",
       "      <td>3000</td>\n",
       "      <td>3000</td>\n",
       "      <td>3000.0</td>\n",
       "      <td>60 months</td>\n",
       "      <td>12.69</td>\n",
       "      <td>67.79</td>\n",
       "      <td>B</td>\n",
       "      <td>B5</td>\n",
       "      <td>...</td>\n",
       "      <td>67.79</td>\n",
       "      <td>May-16</td>\n",
       "      <td>0.0</td>\n",
       "      <td>1</td>\n",
       "      <td>INDIVIDUAL</td>\n",
       "      <td>0</td>\n",
       "      <td>0.0</td>\n",
       "      <td>0</td>\n",
       "      <td>0.0</td>\n",
       "      <td>0.0</td>\n",
       "    </tr>\n",
       "  </tbody>\n",
       "</table>\n",
       "<p>5 rows × 54 columns</p>\n",
       "</div>"
      ],
      "text/plain": [
       "        id  member_id  loan_amnt  funded_amnt  funded_amnt_inv        term  \\\n",
       "0  1077501    1296599       5000         5000           4975.0   36 months   \n",
       "1  1077430    1314167       2500         2500           2500.0   60 months   \n",
       "2  1077175    1313524       2400         2400           2400.0   36 months   \n",
       "3  1076863    1277178      10000        10000          10000.0   36 months   \n",
       "4  1075358    1311748       3000         3000           3000.0   60 months   \n",
       "\n",
       "   int_rate  installment grade sub_grade  ... last_pymnt_amnt  \\\n",
       "0     10.65       162.87     B        B2  ...          171.62   \n",
       "1     15.27        59.83     C        C4  ...          119.66   \n",
       "2     15.96        84.33     C        C5  ...          649.91   \n",
       "3     13.49       339.31     C        C1  ...          357.48   \n",
       "4     12.69        67.79     B        B5  ...           67.79   \n",
       "\n",
       "  last_credit_pull_d collections_12_mths_ex_med  policy_code application_type  \\\n",
       "0             May-16                        0.0            1       INDIVIDUAL   \n",
       "1             Sep-13                        0.0            1       INDIVIDUAL   \n",
       "2             May-16                        0.0            1       INDIVIDUAL   \n",
       "3             Apr-16                        0.0            1       INDIVIDUAL   \n",
       "4             May-16                        0.0            1       INDIVIDUAL   \n",
       "\n",
       "  acc_now_delinq chargeoff_within_12_mths delinq_amnt pub_rec_bankruptcies  \\\n",
       "0              0                      0.0           0                  0.0   \n",
       "1              0                      0.0           0                  0.0   \n",
       "2              0                      0.0           0                  0.0   \n",
       "3              0                      0.0           0                  0.0   \n",
       "4              0                      0.0           0                  0.0   \n",
       "\n",
       "  tax_liens  \n",
       "0       0.0  \n",
       "1       0.0  \n",
       "2       0.0  \n",
       "3       0.0  \n",
       "4       0.0  \n",
       "\n",
       "[5 rows x 54 columns]"
      ]
     },
     "execution_count": 24,
     "metadata": {},
     "output_type": "execute_result"
    }
   ],
   "source": [
    "#Checking if % removed\n",
    "df.head()"
   ]
  },
  {
   "cell_type": "code",
   "execution_count": 37,
   "id": "4f0cc0ba",
   "metadata": {},
   "outputs": [
    {
     "name": "stdout",
     "output_type": "stream",
     "text": [
      "<class 'pandas.core.frame.DataFrame'>\n",
      "Index: 39715 entries, 0 to 39716\n",
      "Data columns (total 54 columns):\n",
      " #   Column                      Non-Null Count  Dtype  \n",
      "---  ------                      --------------  -----  \n",
      " 0   id                          39715 non-null  int64  \n",
      " 1   member_id                   39715 non-null  int64  \n",
      " 2   loan_amnt                   39715 non-null  int64  \n",
      " 3   funded_amnt                 39715 non-null  int64  \n",
      " 4   funded_amnt_inv             39715 non-null  float64\n",
      " 5   term                        39715 non-null  object \n",
      " 6   int_rate                    39715 non-null  float64\n",
      " 7   installment                 39715 non-null  float64\n",
      " 8   grade                       39715 non-null  object \n",
      " 9   sub_grade                   39715 non-null  object \n",
      " 10  emp_title                   37258 non-null  object \n",
      " 11  emp_length                  38640 non-null  object \n",
      " 12  home_ownership              39715 non-null  object \n",
      " 13  annual_inc                  39715 non-null  float64\n",
      " 14  verification_status         39715 non-null  object \n",
      " 15  issue_d                     39715 non-null  object \n",
      " 16  loan_status                 39715 non-null  object \n",
      " 17  pymnt_plan                  39715 non-null  object \n",
      " 18  url                         39715 non-null  object \n",
      " 19  purpose                     39715 non-null  object \n",
      " 20  title                       39704 non-null  object \n",
      " 21  zip_code                    39715 non-null  object \n",
      " 22  addr_state                  39715 non-null  object \n",
      " 23  dti                         39715 non-null  float64\n",
      " 24  delinq_2yrs                 39715 non-null  int64  \n",
      " 25  earliest_cr_line            39715 non-null  object \n",
      " 26  inq_last_6mths              39715 non-null  int64  \n",
      " 27  mths_since_last_delinq      14035 non-null  float64\n",
      " 28  open_acc                    39715 non-null  int64  \n",
      " 29  pub_rec                     39715 non-null  int64  \n",
      " 30  revol_bal                   39715 non-null  int64  \n",
      " 31  revol_util                  39665 non-null  object \n",
      " 32  total_acc                   39715 non-null  int64  \n",
      " 33  initial_list_status         39715 non-null  object \n",
      " 34  out_prncp                   39715 non-null  float64\n",
      " 35  out_prncp_inv               39715 non-null  float64\n",
      " 36  total_pymnt                 39715 non-null  float64\n",
      " 37  total_pymnt_inv             39715 non-null  float64\n",
      " 38  total_rec_prncp             39715 non-null  float64\n",
      " 39  total_rec_int               39715 non-null  float64\n",
      " 40  total_rec_late_fee          39715 non-null  float64\n",
      " 41  recoveries                  39715 non-null  float64\n",
      " 42  collection_recovery_fee     39715 non-null  float64\n",
      " 43  last_pymnt_d                39644 non-null  object \n",
      " 44  last_pymnt_amnt             39715 non-null  float64\n",
      " 45  last_credit_pull_d          39713 non-null  object \n",
      " 46  collections_12_mths_ex_med  39661 non-null  float64\n",
      " 47  policy_code                 39715 non-null  int64  \n",
      " 48  application_type            39715 non-null  object \n",
      " 49  acc_now_delinq              39715 non-null  int64  \n",
      " 50  chargeoff_within_12_mths    39661 non-null  float64\n",
      " 51  delinq_amnt                 39715 non-null  int64  \n",
      " 52  pub_rec_bankruptcies        39020 non-null  float64\n",
      " 53  tax_liens                   39678 non-null  float64\n",
      "dtypes: float64(20), int64(13), object(21)\n",
      "memory usage: 16.7+ MB\n"
     ]
    }
   ],
   "source": [
    "#Checking if interest is numeric , int_rate is now float64\n",
    "df.info()"
   ]
  },
  {
   "cell_type": "code",
   "execution_count": 25,
   "id": "f3bc3cd7",
   "metadata": {},
   "outputs": [
    {
     "data": {
      "text/plain": [
       "0    10+ years\n",
       "1     < 1 year\n",
       "2    10+ years\n",
       "3    10+ years\n",
       "4       1 year\n",
       "Name: emp_length, dtype: object"
      ]
     },
     "execution_count": 25,
     "metadata": {},
     "output_type": "execute_result"
    }
   ],
   "source": [
    "#emp_length is another important variable which needs to be numeric but is an object and we need to remove + and 'years' to make it numeric\n",
    "df['emp_length'].head()"
   ]
  },
  {
   "cell_type": "code",
   "execution_count": 26,
   "id": "74637422",
   "metadata": {},
   "outputs": [],
   "source": [
    "#Using regular expression which will take all the digits and ignore everything else in the value\n",
    "#But before doing that we need to remove all the rows with null value for column emp_length\n",
    "\n",
    "df=df[~df['emp_length'].isnull()]\n"
   ]
  },
  {
   "cell_type": "code",
   "execution_count": 27,
   "id": "2417ab5b",
   "metadata": {},
   "outputs": [],
   "source": [
    "#now applying regular expression\n",
    "import re\n",
    "df['emp_length']=df['emp_length'].apply(lambda x:re.findall('\\d+',str(x))[0])"
   ]
  },
  {
   "cell_type": "code",
   "execution_count": 28,
   "id": "08ee882b",
   "metadata": {},
   "outputs": [],
   "source": [
    "#Comverting emp_length to numeric\n",
    "df['emp_length']=df['emp_length'].apply(lambda x:pd.to_numeric(x))"
   ]
  },
  {
   "cell_type": "code",
   "execution_count": 42,
   "id": "4f7291d9",
   "metadata": {},
   "outputs": [
    {
     "data": {
      "text/plain": [
       "id                                                                      1077175\n",
       "member_id                                                               1313524\n",
       "loan_amnt                                                                  2400\n",
       "funded_amnt                                                                2400\n",
       "funded_amnt_inv                                                          2400.0\n",
       "term                                                                  36 months\n",
       "int_rate                                                                  15.96\n",
       "installment                                                               84.33\n",
       "grade                                                                         C\n",
       "sub_grade                                                                    C5\n",
       "emp_title                                                                   NaN\n",
       "emp_length                                                                   10\n",
       "home_ownership                                                             RENT\n",
       "annual_inc                                                              12252.0\n",
       "verification_status                                                Not Verified\n",
       "issue_d                                                                  Dec-11\n",
       "loan_status                                                          Fully Paid\n",
       "pymnt_plan                                                                    n\n",
       "url                           https://lendingclub.com/browse/loanDetail.acti...\n",
       "purpose                                                          small_business\n",
       "title                                                      real estate business\n",
       "zip_code                                                                  606xx\n",
       "addr_state                                                                   IL\n",
       "dti                                                                        8.72\n",
       "delinq_2yrs                                                                   0\n",
       "earliest_cr_line                                                         Nov-01\n",
       "inq_last_6mths                                                                2\n",
       "mths_since_last_delinq                                                      NaN\n",
       "open_acc                                                                      2\n",
       "pub_rec                                                                       0\n",
       "revol_bal                                                                  2956\n",
       "revol_util                                                               98.50%\n",
       "total_acc                                                                    10\n",
       "initial_list_status                                                           f\n",
       "out_prncp                                                                   0.0\n",
       "out_prncp_inv                                                               0.0\n",
       "total_pymnt                                                         3005.666844\n",
       "total_pymnt_inv                                                         3005.67\n",
       "total_rec_prncp                                                          2400.0\n",
       "total_rec_int                                                            605.67\n",
       "total_rec_late_fee                                                          0.0\n",
       "recoveries                                                                  0.0\n",
       "collection_recovery_fee                                                     0.0\n",
       "last_pymnt_d                                                             Jun-14\n",
       "last_pymnt_amnt                                                          649.91\n",
       "last_credit_pull_d                                                       May-16\n",
       "collections_12_mths_ex_med                                                  0.0\n",
       "policy_code                                                                   1\n",
       "application_type                                                     INDIVIDUAL\n",
       "acc_now_delinq                                                                0\n",
       "chargeoff_within_12_mths                                                    0.0\n",
       "delinq_amnt                                                                   0\n",
       "pub_rec_bankruptcies                                                        0.0\n",
       "tax_liens                                                                   0.0\n",
       "Name: 2, dtype: object"
      ]
     },
     "execution_count": 42,
     "metadata": {},
     "output_type": "execute_result"
    }
   ],
   "source": [
    "#Checking the change of emp_length has + and other < years removed\n",
    "\n",
    "df.iloc[2]"
   ]
  },
  {
   "cell_type": "code",
   "execution_count": 182,
   "id": "bcb5b66d",
   "metadata": {},
   "outputs": [
    {
     "name": "stdout",
     "output_type": "stream",
     "text": [
      "<class 'pandas.core.frame.DataFrame'>\n",
      "Index: 38640 entries, 0 to 39716\n",
      "Data columns (total 54 columns):\n",
      " #   Column                      Non-Null Count  Dtype  \n",
      "---  ------                      --------------  -----  \n",
      " 0   id                          38640 non-null  int64  \n",
      " 1   member_id                   38640 non-null  int64  \n",
      " 2   loan_amnt                   38640 non-null  int64  \n",
      " 3   funded_amnt                 38640 non-null  int64  \n",
      " 4   funded_amnt_inv             38640 non-null  float64\n",
      " 5   term                        38640 non-null  object \n",
      " 6   int_rate                    38640 non-null  float64\n",
      " 7   installment                 38640 non-null  float64\n",
      " 8   grade                       38640 non-null  object \n",
      " 9   sub_grade                   38640 non-null  object \n",
      " 10  emp_title                   37202 non-null  object \n",
      " 11  emp_length                  38640 non-null  int64  \n",
      " 12  home_ownership              38640 non-null  object \n",
      " 13  annual_inc                  38640 non-null  float64\n",
      " 14  verification_status         38640 non-null  object \n",
      " 15  issue_d                     38640 non-null  object \n",
      " 16  loan_status                 38640 non-null  object \n",
      " 17  pymnt_plan                  38640 non-null  object \n",
      " 18  url                         38640 non-null  object \n",
      " 19  purpose                     38640 non-null  object \n",
      " 20  title                       38630 non-null  object \n",
      " 21  zip_code                    38640 non-null  object \n",
      " 22  addr_state                  38640 non-null  object \n",
      " 23  dti                         38640 non-null  float64\n",
      " 24  delinq_2yrs                 38640 non-null  int64  \n",
      " 25  earliest_cr_line            38640 non-null  object \n",
      " 26  inq_last_6mths              38640 non-null  int64  \n",
      " 27  mths_since_last_delinq      13690 non-null  float64\n",
      " 28  open_acc                    38640 non-null  int64  \n",
      " 29  pub_rec                     38640 non-null  int64  \n",
      " 30  revol_bal                   38640 non-null  int64  \n",
      " 31  revol_util                  38593 non-null  object \n",
      " 32  total_acc                   38640 non-null  int64  \n",
      " 33  initial_list_status         38640 non-null  object \n",
      " 34  out_prncp                   38640 non-null  float64\n",
      " 35  out_prncp_inv               38640 non-null  float64\n",
      " 36  total_pymnt                 38640 non-null  float64\n",
      " 37  total_pymnt_inv             38640 non-null  float64\n",
      " 38  total_rec_prncp             38640 non-null  float64\n",
      " 39  total_rec_int               38640 non-null  float64\n",
      " 40  total_rec_late_fee          38640 non-null  float64\n",
      " 41  recoveries                  38640 non-null  float64\n",
      " 42  collection_recovery_fee     38640 non-null  float64\n",
      " 43  last_pymnt_d                38574 non-null  object \n",
      " 44  last_pymnt_amnt             38640 non-null  float64\n",
      " 45  last_credit_pull_d          38638 non-null  object \n",
      " 46  collections_12_mths_ex_med  38586 non-null  float64\n",
      " 47  policy_code                 38640 non-null  int64  \n",
      " 48  application_type            38640 non-null  object \n",
      " 49  acc_now_delinq              38640 non-null  int64  \n",
      " 50  chargeoff_within_12_mths    38586 non-null  float64\n",
      " 51  delinq_amnt                 38640 non-null  int64  \n",
      " 52  pub_rec_bankruptcies        37945 non-null  float64\n",
      " 53  tax_liens                   38603 non-null  float64\n",
      "dtypes: float64(20), int64(14), object(20)\n",
      "memory usage: 16.2+ MB\n"
     ]
    }
   ],
   "source": [
    "#Checking if emp_length converted to numeric . we can see emp_length is now int64\n",
    "\n",
    "df.info()"
   ]
  },
  {
   "cell_type": "code",
   "execution_count": 29,
   "id": "1d18ff8a",
   "metadata": {},
   "outputs": [
    {
     "data": {
      "text/plain": [
       "0    10\n",
       "1     1\n",
       "2    10\n",
       "3    10\n",
       "4     1\n",
       "Name: emp_length, dtype: int64"
      ]
     },
     "execution_count": 29,
     "metadata": {},
     "output_type": "execute_result"
    }
   ],
   "source": [
    "#Rechecking \n",
    "df['emp_length'].head()"
   ]
  },
  {
   "cell_type": "code",
   "execution_count": 30,
   "id": "aca4121d",
   "metadata": {},
   "outputs": [
    {
     "data": {
      "text/plain": [
       "(38640, 54)"
      ]
     },
     "execution_count": 30,
     "metadata": {},
     "output_type": "execute_result"
    }
   ],
   "source": [
    "df.shape"
   ]
  },
  {
   "cell_type": "code",
   "execution_count": 31,
   "id": "16adda12",
   "metadata": {},
   "outputs": [],
   "source": [
    "#Converting few more columns to numeric\n",
    "\n",
    "numeric_columns = ['loan_amnt','funded_amnt','funded_amnt_inv','installment','int_rate','annual_inc','dti']\n",
    "\n",
    "df[numeric_columns] = df[numeric_columns].apply(pd.to_numeric)"
   ]
  },
  {
   "cell_type": "code",
   "execution_count": 32,
   "id": "28786545",
   "metadata": {},
   "outputs": [
    {
     "data": {
      "text/plain": [
       "count    38640.000000\n",
       "mean     11292.024457\n",
       "std       7462.112085\n",
       "min        500.000000\n",
       "25%       5500.000000\n",
       "50%      10000.000000\n",
       "75%      15000.000000\n",
       "max      35000.000000\n",
       "Name: loan_amnt, dtype: float64"
      ]
     },
     "execution_count": 32,
     "metadata": {},
     "output_type": "execute_result"
    }
   ],
   "source": [
    "df['loan_amnt'].describe()\n"
   ]
  },
  {
   "cell_type": "code",
   "execution_count": 33,
   "id": "81efeba3",
   "metadata": {},
   "outputs": [],
   "source": [
    "#converting issue date to date time\n",
    "df.issue_d = pd.to_datetime(df.issue_d, format='%b-%y')"
   ]
  },
  {
   "cell_type": "code",
   "execution_count": 34,
   "id": "6e20ff90",
   "metadata": {},
   "outputs": [],
   "source": [
    "df['issue_d_month'] = df['issue_d'].dt.month\n",
    "df['issue_d_year'] = df['issue_d'].dt.year"
   ]
  },
  {
   "cell_type": "code",
   "execution_count": 35,
   "id": "cbcb9104",
   "metadata": {},
   "outputs": [
    {
     "data": {
      "text/plain": [
       "(38640, 56)"
      ]
     },
     "execution_count": 35,
     "metadata": {},
     "output_type": "execute_result"
    }
   ],
   "source": [
    "#Checking conversion\n",
    "df.shape"
   ]
  },
  {
   "cell_type": "code",
   "execution_count": 36,
   "id": "db0405ea",
   "metadata": {
    "scrolled": true
   },
   "outputs": [
    {
     "data": {
      "text/plain": [
       "issue_d_year\n",
       "2011    20899\n",
       "2010    11214\n",
       "2009     4716\n",
       "2008     1562\n",
       "2007      249\n",
       "Name: count, dtype: int64"
      ]
     },
     "execution_count": 36,
     "metadata": {},
     "output_type": "execute_result"
    }
   ],
   "source": [
    "df['issue_d_year'].value_counts()"
   ]
  },
  {
   "cell_type": "code",
   "execution_count": 37,
   "id": "c161f406",
   "metadata": {
    "scrolled": false
   },
   "outputs": [
    {
     "data": {
      "text/plain": [
       "<Axes: xlabel='loan_amnt', ylabel='Count'>"
      ]
     },
     "execution_count": 37,
     "metadata": {},
     "output_type": "execute_result"
    },
    {
     "data": {
      "image/png": "[encoded data removed]",
      "text/plain": [
       "<Figure size 640x480 with 1 Axes>"
      ]
     },
     "metadata": {},
     "output_type": "display_data"
    }
   ],
   "source": [
    "#checking distribution of loan amount\n",
    "sns.histplot(df.loan_amnt)"
   ]
  },
  {
   "cell_type": "code",
   "execution_count": 39,
   "id": "cc180b57",
   "metadata": {},
   "outputs": [
    {
     "data": {
      "text/plain": [
       "count    38640.000000\n",
       "mean     11292.024457\n",
       "std       7462.112085\n",
       "min        500.000000\n",
       "25%       5500.000000\n",
       "50%      10000.000000\n",
       "75%      15000.000000\n",
       "max      35000.000000\n",
       "Name: loan_amnt, dtype: float64"
      ]
     },
     "execution_count": 39,
     "metadata": {},
     "output_type": "execute_result"
    }
   ],
   "source": [
    "df['loan_amnt'].describe()"
   ]
  },
  {
   "cell_type": "code",
   "execution_count": 40,
   "id": "7c12285c",
   "metadata": {
    "scrolled": true
   },
   "outputs": [
    {
     "data": {
      "image/png": "[encoded data removed]",
      "text/plain": [
       "<Figure size 640x480 with 1 Axes>"
      ]
     },
     "metadata": {},
     "output_type": "display_data"
    }
   ],
   "source": [
    "plt.yscale('log')\n",
    "df.boxplot(column=['annual_inc']);"
   ]
  },
  {
   "cell_type": "code",
   "execution_count": 41,
   "id": "ea9210ff",
   "metadata": {},
   "outputs": [
    {
     "data": {
      "text/plain": [
       "count     38420.000000\n",
       "mean      66975.718485\n",
       "std       37415.587351\n",
       "min        4000.000000\n",
       "25%       41004.000000\n",
       "50%       60000.000000\n",
       "75%       82401.000000\n",
       "max      294000.000000\n",
       "Name: annual_inc, dtype: float64"
      ]
     },
     "execution_count": 41,
     "metadata": {},
     "output_type": "execute_result"
    }
   ],
   "source": [
    "#removing rows from annual_inc after 99.5 percentile for removing the outliers\n",
    "df = df[df[\"annual_inc\"] < df[\"annual_inc\"].quantile(0.995)]\n",
    "df[\"annual_inc\"].describe()"
   ]
  },
  {
   "cell_type": "markdown",
   "id": "d3aae6c8",
   "metadata": {},
   "source": [
    "# 3. Data Analysis\n",
    "\n",
    "\n",
    "\n"
   ]
  },
  {
   "cell_type": "code",
   "execution_count": 42,
   "id": "f9b968cf",
   "metadata": {},
   "outputs": [
    {
     "data": {
      "text/plain": [
       "loan_status\n",
       "Fully Paid     31951\n",
       "Charged Off     5376\n",
       "Current         1093\n",
       "Name: count, dtype: int64"
      ]
     },
     "execution_count": 42,
     "metadata": {},
     "output_type": "execute_result"
    }
   ],
   "source": [
    "#Checking Loan Status value counts\n",
    "df['loan_status'].value_counts()"
   ]
  },
  {
   "cell_type": "code",
   "execution_count": 43,
   "id": "850be8d5",
   "metadata": {},
   "outputs": [],
   "source": [
    "#As per our assumption we are not catering to current loan status as the assumption here is that a person already having a loan with the bank will not be given another loan\n",
    "#so removing loan status = current\n",
    "\n",
    "df = df[df['loan_status']!='Current']"
   ]
  },
  {
   "cell_type": "code",
   "execution_count": 44,
   "id": "8813fa6d",
   "metadata": {},
   "outputs": [],
   "source": [
    "#After removing current we can now convert fully paid string status to numeric 0 and charged off (defaulter) status to numeric 1\n",
    "df['loan_status'] = df['loan_status'].apply(lambda x:0 if x=='Fully Paid' else 1)\n",
    "df['load_status'] = df['loan_status'].apply(lambda x:pd.to_numeric(x))"
   ]
  },
  {
   "cell_type": "code",
   "execution_count": 45,
   "id": "2ce1a255",
   "metadata": {},
   "outputs": [
    {
     "data": {
      "text/plain": [
       "loan_status\n",
       "0    31951\n",
       "1     5376\n",
       "Name: count, dtype: int64"
      ]
     },
     "execution_count": 45,
     "metadata": {},
     "output_type": "execute_result"
    }
   ],
   "source": [
    "#checking conversion to 0 and 1\n",
    "df['loan_status'].value_counts()"
   ]
  },
  {
   "cell_type": "markdown",
   "id": "89e0a8af",
   "metadata": {},
   "source": [
    "### 3a. Univeriate Analysis"
   ]
  },
  {
   "cell_type": "code",
   "execution_count": 63,
   "id": "963db118",
   "metadata": {},
   "outputs": [],
   "source": [
    "    #Let's do a simple analysis on year wise charged off loans .remember zero means charged off"
   ]
  },
  {
   "cell_type": "code",
   "execution_count": 46,
   "id": "5e5a95b7",
   "metadata": {
    "scrolled": false
   },
   "outputs": [
    {
     "data": {
      "image/png": "[encoded data removed]",
      "text/plain": [
       "<Figure size 500x500 with 1 Axes>"
      ]
     },
     "metadata": {},
     "output_type": "display_data"
    }
   ],
   "source": [
    "#No of loans charged off = 1 VS no of loans fully paid = 0\n",
    "plt.figure(figsize=(5,5))\n",
    "ax = sns.countplot(x=\"loan_status\", data=df)\n",
    "ax.set(xlabel='Loan Status', ylabel='No. of Loans')\n",
    "plt.show()"
   ]
  },
  {
   "cell_type": "markdown",
   "id": "4d07c35a",
   "metadata": {},
   "source": [
    "#### Analysis of the above countplot is that there are 30000 and above fully paid loans as compared to approx 5000 default loans"
   ]
  },
  {
   "cell_type": "code",
   "execution_count": 47,
   "id": "2444bdd3",
   "metadata": {
    "scrolled": true
   },
   "outputs": [
    {
     "data": {
      "image/png": "[encoded data removed]",
      "text/plain": [
       "<Figure size 3000x3000 with 1 Axes>"
      ]
     },
     "metadata": {},
     "output_type": "display_data"
    }
   ],
   "source": [
    "#States where applications are highest\n",
    "plt.figure(figsize=(30,30))\n",
    "ax = sns.countplot(x=\"addr_state\", data=df)\n",
    "ax.set(xlabel='State', ylabel='No. of Loans')\n",
    "plt.show()"
   ]
  },
  {
   "attachments": {},
   "cell_type": "markdown",
   "id": "a894a1d2",
   "metadata": {},
   "source": [
    "#### The states and number of applications does not really infer much about the defaulter states.California has the highest number of loans"
   ]
  },
  {
   "cell_type": "code",
   "execution_count": 48,
   "id": "6c695d1f",
   "metadata": {},
   "outputs": [
    {
     "data": {
      "image/png": "[encoded data removed]",
      "text/plain": [
       "<Figure size 500x500 with 1 Axes>"
      ]
     },
     "metadata": {},
     "output_type": "display_data"
    }
   ],
   "source": [
    "# no of loan applications home ownership wise\n",
    "plt.figure(figsize=(5,5))\n",
    "ax = sns.countplot(x=\"home_ownership\", data=df)\n",
    "ax.set(xlabel='Home ownership', ylabel='No. of Loans')\n",
    "plt.show()"
   ]
  },
  {
   "attachments": {},
   "cell_type": "markdown",
   "id": "67c69c31",
   "metadata": {},
   "source": [
    "### Borrowers with rented homes have highest loans\n"
   ]
  },
  {
   "cell_type": "code",
   "execution_count": 49,
   "id": "483bd562",
   "metadata": {
    "scrolled": true
   },
   "outputs": [
    {
     "data": {
      "image/png": "[encoded data removed]",
      "text/plain": [
       "<Figure size 1000x1000 with 1 Axes>"
      ]
     },
     "metadata": {},
     "output_type": "display_data"
    }
   ],
   "source": [
    "# no of loan applications and years of employment\n",
    "plt.figure(figsize=(10,10))\n",
    "ax = sns.countplot(x=\"emp_length\", data=df)\n",
    "ax.set(xlabel='Employment years', ylabel='No. of Loans')\n",
    "plt.show()"
   ]
  },
  {
   "attachments": {},
   "cell_type": "markdown",
   "id": "ab5c1b78",
   "metadata": {},
   "source": [
    "### In the above bar graph we can infer that the bank is giving approximately equal number of loans to borrowers with 1 year employment and 10 year employment. "
   ]
  },
  {
   "cell_type": "code",
   "execution_count": 50,
   "id": "45f324c7",
   "metadata": {
    "scrolled": true
   },
   "outputs": [
    {
     "name": "stderr",
     "output_type": "stream",
     "text": [
      "C:\\Windows\\Temp\\ipykernel_16060\\2073405454.py:6: SettingWithCopyWarning: \n",
      "A value is trying to be set on a copy of a slice from a DataFrame.\n",
      "Try using .loc[row_indexer,col_indexer] = value instead\n",
      "\n",
      "See the caveats in the documentation: https://pandas.pydata.org/pandas-docs/stable/user_guide/indexing.html#returning-a-view-versus-a-copy\n",
      "  charged_off_loans['issue_d_year']=charged_off_loans['issue_d_year'].astype(int)\n",
      "C:\\Windows\\Temp\\ipykernel_16060\\2073405454.py:10: SettingWithCopyWarning: \n",
      "A value is trying to be set on a copy of a slice from a DataFrame.\n",
      "Try using .loc[row_indexer,col_indexer] = value instead\n",
      "\n",
      "See the caveats in the documentation: https://pandas.pydata.org/pandas-docs/stable/user_guide/indexing.html#returning-a-view-versus-a-copy\n",
      "  fully_paid_loans['issue_d_year']=fully_paid_loans['issue_d_year'].astype(int)\n"
     ]
    }
   ],
   "source": [
    "#making a new dataframe for loans where status is charged off\n",
    "\n",
    "charged_off_loans=df.loc[df['loan_status']==1]\n",
    "charged_off_loans['issue_d_year']=charged_off_loans['issue_d_year'].astype(int)\n",
    "\n",
    "#making a new dataframe for loans where status is Fully Paid\n",
    "fully_paid_loans = df[df['loan_status'] ==0]\n",
    "fully_paid_loans['issue_d_year']=fully_paid_loans['issue_d_year'].astype(int)"
   ]
  },
  {
   "cell_type": "code",
   "execution_count": 51,
   "id": "5783702d",
   "metadata": {},
   "outputs": [
    {
     "data": {
      "text/plain": [
       "(5376, 57)"
      ]
     },
     "execution_count": 51,
     "metadata": {},
     "output_type": "execute_result"
    }
   ],
   "source": [
    "#Checking the new dataframe for charged off loans\n",
    "charged_off_loans.shape"
   ]
  },
  {
   "cell_type": "code",
   "execution_count": 52,
   "id": "c8accff3",
   "metadata": {},
   "outputs": [
    {
     "data": {
      "text/plain": [
       "1     2011\n",
       "8     2011\n",
       "9     2011\n",
       "12    2011\n",
       "14    2011\n",
       "Name: issue_d_year, dtype: int32"
      ]
     },
     "execution_count": 52,
     "metadata": {},
     "output_type": "execute_result"
    }
   ],
   "source": [
    "#Checking the new dataframe for charged off loans\n",
    "charged_off_loans['issue_d_year'].head()\n"
   ]
  },
  {
   "cell_type": "code",
   "execution_count": 53,
   "id": "e0c3a599",
   "metadata": {},
   "outputs": [
    {
     "data": {
      "text/plain": [
       "(31951, 57)"
      ]
     },
     "execution_count": 53,
     "metadata": {},
     "output_type": "execute_result"
    }
   ],
   "source": [
    "#Checking the new dataframe for fully paid loans\n",
    "fully_paid_loans.shape"
   ]
  },
  {
   "cell_type": "code",
   "execution_count": 54,
   "id": "476001f4",
   "metadata": {},
   "outputs": [
    {
     "data": {
      "text/plain": [
       "[Text(0.5, 0, 'Loan Issue Year'), Text(0, 0.5, 'No. of Loans')]"
      ]
     },
     "execution_count": 54,
     "metadata": {},
     "output_type": "execute_result"
    },
    {
     "data": {
      "image/png": "[encoded data removed]",
      "text/plain": [
       "<Figure size 2500x500 with 1 Axes>"
      ]
     },
     "metadata": {},
     "output_type": "display_data"
    }
   ],
   "source": [
    "#year wise distribution of loans that are charged off\n",
    "plt.figure(figsize=(25,5))\n",
    "plt.subplot(1, 4, 1)\n",
    "ax1=sns.countplot(x='issue_d_year', data=charged_off_loans)\n",
    "ax1.set_title('Loans charged off per year', fontsize=14)\n",
    "ax1.set(xlabel='Loan Issue Year', ylabel='No. of Loans')"
   ]
  },
  {
   "cell_type": "markdown",
   "id": "e58524fe",
   "metadata": {},
   "source": [
    "### The number of default loans is increasing exponentially from 2007 to 2011 almost double each year which should be a cause of worry for the lending club"
   ]
  },
  {
   "cell_type": "code",
   "execution_count": 55,
   "id": "12f0d628",
   "metadata": {},
   "outputs": [
    {
     "data": {
      "text/plain": [
       "[Text(0.5, 0, 'Loan Issue Year'), Text(0, 0.5, 'No. of Loans')]"
      ]
     },
     "execution_count": 55,
     "metadata": {},
     "output_type": "execute_result"
    },
    {
     "data": {
      "image/png": "[encoded data removed]",
      "text/plain": [
       "<Figure size 2500x500 with 1 Axes>"
      ]
     },
     "metadata": {},
     "output_type": "display_data"
    }
   ],
   "source": [
    "#year wise distribution of loans that are fully paid\n",
    "plt.figure(figsize=(25,5))\n",
    "plt.subplot(1, 4, 1)\n",
    "ax1=sns.countplot(x='issue_d_year', data=fully_paid_loans)\n",
    "ax1.set_title('Loans Fully paid per year', fontsize=14)\n",
    "ax1.set(xlabel='Loan Issue Year', ylabel='No. of Loans')"
   ]
  },
  {
   "cell_type": "markdown",
   "id": "bc949ae7",
   "metadata": {},
   "source": [
    "### Fully paid loans are also increasing each year "
   ]
  },
  {
   "cell_type": "markdown",
   "id": "ce91d700",
   "metadata": {},
   "source": [
    "### 3b. Biveriate Analysis"
   ]
  },
  {
   "cell_type": "code",
   "execution_count": 56,
   "id": "9e7a3727",
   "metadata": {},
   "outputs": [
    {
     "data": {
      "text/plain": [
       "loan_status\n",
       "0    31951\n",
       "1     5376\n",
       "Name: count, dtype: int64"
      ]
     },
     "execution_count": 56,
     "metadata": {},
     "output_type": "execute_result"
    }
   ],
   "source": [
    "# Let's consider two variables grade and loan_status and figure out if there is any correlation in these variables\n",
    "df['loan_status'].value_counts()\n"
   ]
  },
  {
   "cell_type": "code",
   "execution_count": 57,
   "id": "b239865b",
   "metadata": {},
   "outputs": [
    {
     "data": {
      "text/plain": [
       "grade\n",
       "B    11305\n",
       "A     9626\n",
       "C     7621\n",
       "D     4950\n",
       "E     2588\n",
       "F      948\n",
       "G      289\n",
       "Name: count, dtype: int64"
      ]
     },
     "execution_count": 57,
     "metadata": {},
     "output_type": "execute_result"
    }
   ],
   "source": [
    "#Just Checking the Grade column\n",
    "df['grade'].value_counts()\n"
   ]
  },
  {
   "cell_type": "code",
   "execution_count": 58,
   "id": "9a194e8e",
   "metadata": {},
   "outputs": [
    {
     "data": {
      "image/png": "[encoded data removed]",
      "text/plain": [
       "<Figure size 640x480 with 1 Axes>"
      ]
     },
     "metadata": {},
     "output_type": "display_data"
    }
   ],
   "source": [
    "sns.barplot(x='grade',y='loan_status',data=df)\n",
    "plt.show()"
   ]
  },
  {
   "cell_type": "markdown",
   "id": "6f273566",
   "metadata": {},
   "source": [
    "### grade and loan status indicates that for A ,B grades the loan status is fully paid as compared to F , G E and D."
   ]
  },
  {
   "cell_type": "markdown",
   "id": "932c21cc",
   "metadata": {},
   "source": [
    "### The above biveriate barplot for grade and loan status indicates that for A ,B grades the loan status is fully paid as compared to F , G E and D. so bank should give more of A,B and C graded loans."
   ]
  },
  {
   "cell_type": "code",
   "execution_count": 59,
   "id": "c37140e7",
   "metadata": {},
   "outputs": [
    {
     "data": {
      "image/png": "[encoded data removed]",
      "text/plain": [
       "<Figure size 640x480 with 1 Axes>"
      ]
     },
     "metadata": {},
     "output_type": "display_data"
    }
   ],
   "source": [
    "#Let find correlation between home ownership and loan status if any\n",
    "sns.barplot(x='home_ownership',y = 'loan_status',data=df)\n",
    "plt.show()"
   ]
  },
  {
   "cell_type": "markdown",
   "id": "47671733",
   "metadata": {},
   "source": [
    "### from the above barplot we can infer there is not much variation on loan status based on the ownership type. Therefore home ownership should not be considered as a variable to identity potentially default applicants."
   ]
  },
  {
   "cell_type": "code",
   "execution_count": 60,
   "id": "8dfb5c27",
   "metadata": {
    "scrolled": true
   },
   "outputs": [
    {
     "data": {
      "image/png": "[encoded data removed]",
      "text/plain": [
       "<Figure size 640x480 with 1 Axes>"
      ]
     },
     "metadata": {},
     "output_type": "display_data"
    }
   ],
   "source": [
    "#term-wise distribution of charged-off and fully paid loans vs loan amount\n",
    "\n",
    "ax = sns.barplot(x='term', y='loan_amnt', hue=\"loan_status\", data=df, estimator=np.mean)\n",
    "ax.set(xlabel='Loan Term', ylabel='Average Loan Amount')\n",
    "plt.show()"
   ]
  },
  {
   "cell_type": "markdown",
   "id": "2f244517",
   "metadata": {},
   "source": [
    "### As we can see from the above barplot 36 months or 60 months term period does not have much impact on charged off and fully paid ratio."
   ]
  },
  {
   "cell_type": "code",
   "execution_count": 73,
   "id": "b0531434",
   "metadata": {},
   "outputs": [],
   "source": [
    "#Converting loan_amnt to int64 as was getting an error int the function below now rectified.\n",
    "df['loan_amnt'] = df['loan_amnt'].apply(np.int64)"
   ]
  },
  {
   "cell_type": "code",
   "execution_count": 74,
   "id": "6c22c33d",
   "metadata": {},
   "outputs": [
    {
     "data": {
      "text/plain": [
       "count    37327.000000\n",
       "mean     11075.375733\n",
       "std       7310.616859\n",
       "min        500.000000\n",
       "25%       5500.000000\n",
       "50%       9875.000000\n",
       "75%      15000.000000\n",
       "max      35000.000000\n",
       "Name: loan_amnt, dtype: float64"
      ]
     },
     "execution_count": 74,
     "metadata": {},
     "output_type": "execute_result"
    }
   ],
   "source": [
    "#Checking min Max for creating bins (ranges) for laon amount\n",
    "df['loan_amnt'].describe()"
   ]
  },
  {
   "cell_type": "code",
   "execution_count": 75,
   "id": "02d2edb3",
   "metadata": {},
   "outputs": [],
   "source": [
    "#Converting Loan Amount ranges into high medium and low and then plotting the loan status to find any insights\n",
    "def fun(n):\n",
    "    if n<3000:\n",
    "        return 'low'\n",
    "    elif n>=3000 and n<10000:\n",
    "        return 'medium'\n",
    "    elif n>=10000 and n<20000:\n",
    "        return 'high'\n",
    "    elif n>20000:\n",
    "        return 'very high'"
   ]
  },
  {
   "cell_type": "code",
   "execution_count": 76,
   "id": "253f75f7",
   "metadata": {},
   "outputs": [],
   "source": [
    "df['loan_amnt']=df['loan_amnt'].apply(lambda x: fun(x))"
   ]
  },
  {
   "cell_type": "code",
   "execution_count": 77,
   "id": "d7b54459",
   "metadata": {},
   "outputs": [
    {
     "data": {
      "text/plain": [
       "loan_amnt\n",
       "medium       16074\n",
       "high         12994\n",
       "very high     4118\n",
       "low           2639\n",
       "Name: count, dtype: int64"
      ]
     },
     "execution_count": 77,
     "metadata": {},
     "output_type": "execute_result"
    }
   ],
   "source": [
    "#Checking the loan amount bins\n",
    "df['loan_amnt'].value_counts()"
   ]
  },
  {
   "cell_type": "code",
   "execution_count": 78,
   "id": "5ac9ec20",
   "metadata": {},
   "outputs": [
    {
     "data": {
      "image/png": "[encoded data removed]",
      "text/plain": [
       "<Figure size 640x480 with 1 Axes>"
      ]
     },
     "metadata": {},
     "output_type": "display_data"
    }
   ],
   "source": [
    "#Plotting loan amount and loan status based on created bins for further Analysis\n",
    "sns.barplot(x='loan_amnt',y='loan_status',data=df)\n",
    "plt.show()"
   ]
  },
  {
   "cell_type": "markdown",
   "id": "82ab5aa5",
   "metadata": {},
   "source": [
    "### very high loan amount is creating more charged off loan status"
   ]
  },
  {
   "cell_type": "code",
   "execution_count": 79,
   "id": "f6013de8",
   "metadata": {},
   "outputs": [
    {
     "data": {
      "text/plain": [
       "0    24000.0\n",
       "1    30000.0\n",
       "2    12252.0\n",
       "3    49200.0\n",
       "5    36000.0\n",
       "Name: annual_inc, dtype: float64"
      ]
     },
     "execution_count": 79,
     "metadata": {},
     "output_type": "execute_result"
    }
   ],
   "source": [
    "#Looking at Annual Income and Loan Status for Analysis\n",
    "df['annual_inc'].head()"
   ]
  },
  {
   "cell_type": "code",
   "execution_count": 80,
   "id": "78f912f7",
   "metadata": {},
   "outputs": [
    {
     "data": {
      "text/plain": [
       "count     37327.000000\n",
       "mean      66744.481126\n",
       "std       37320.093724\n",
       "min        4000.000000\n",
       "25%       41000.000000\n",
       "50%       59500.000000\n",
       "75%       82000.000000\n",
       "max      294000.000000\n",
       "Name: annual_inc, dtype: float64"
      ]
     },
     "execution_count": 80,
     "metadata": {},
     "output_type": "execute_result"
    }
   ],
   "source": [
    "#Converting Annual income to int \n",
    "df['annual_inc'] = df['annual_inc'].apply(np.int64)\n",
    "df['annual_inc'].describe()"
   ]
  },
  {
   "cell_type": "code",
   "execution_count": 81,
   "id": "05be1bd7",
   "metadata": {},
   "outputs": [],
   "source": [
    "def fun1(n1):\n",
    "    if n1<35000:\n",
    "        return 'low'\n",
    "    elif n1>=35000 and n1<65000:\n",
    "        return 'medium'\n",
    "    elif n1>=65000 and n1<95000:\n",
    "        return 'high'\n",
    "    elif n1>95000:\n",
    "        return 'very high'"
   ]
  },
  {
   "cell_type": "code",
   "execution_count": 82,
   "id": "849bd34f",
   "metadata": {},
   "outputs": [],
   "source": [
    "df['annual_inc']=df['annual_inc'].apply(lambda x1: fun1(x1))"
   ]
  },
  {
   "cell_type": "code",
   "execution_count": 83,
   "id": "90a21e6b",
   "metadata": {},
   "outputs": [
    {
     "data": {
      "text/plain": [
       "annual_inc\n",
       "medium       15840\n",
       "high          9225\n",
       "very high     6372\n",
       "low           5618\n",
       "Name: count, dtype: int64"
      ]
     },
     "execution_count": 83,
     "metadata": {},
     "output_type": "execute_result"
    }
   ],
   "source": [
    "df['annual_inc'].value_counts()"
   ]
  },
  {
   "cell_type": "code",
   "execution_count": 84,
   "id": "8bf60080",
   "metadata": {
    "scrolled": true
   },
   "outputs": [
    {
     "data": {
      "image/png": "[encoded data removed]",
      "text/plain": [
       "<Figure size 640x480 with 1 Axes>"
      ]
     },
     "metadata": {},
     "output_type": "display_data"
    }
   ],
   "source": [
    "sns.barplot(x='annual_inc',y='loan_status',data=df)\n",
    "plt.show()"
   ]
  },
  {
   "cell_type": "markdown",
   "id": "856ce4f2",
   "metadata": {},
   "source": [
    "#### lower the annual income higher is the default rate"
   ]
  },
  {
   "cell_type": "markdown",
   "id": "74b1012c",
   "metadata": {},
   "source": [
    "# 4. Recommendation and Assumptions"
   ]
  },
  {
   "cell_type": "markdown",
   "id": "ebcfd328",
   "metadata": {},
   "source": [
    "### 4a. Recommendations"
   ]
  },
  {
   "cell_type": "markdown",
   "id": "6e662ff4",
   "metadata": {},
   "source": [
    "Following are the recommendations based on the above Analysis\n",
    "\n",
    "1) The data provided to provide clear default profile paramaters is insufficient. Out of the 111 columns only 57 columns had meaningful data and finally ended up using only 54 columns which is approximately 50% of the columns only. Recommendation is to invest in a proper data gathering exercise and redo the Analysis\n",
    "\n",
    "2) The following variables were analysed and compared \n",
    "\n",
    "For the borrower : Annual Income , Employement length and home ownership\n",
    "For the Loan : Loan Amount , term of loan , grade , interest rate , Loan status\n",
    "\n",
    "If the data for other attributes provided then Analysis can be more accurate\n",
    "\n",
    "3) out of the total loan count of 38420 for Lending Club Bank only approximately 4% loans are charged off which indicates there is a roboust mechanism in place to identify defaulter borrower profiles\n",
    "\n",
    "4) grade and loan status indicates that for A ,B grades the loan status is fully paid as compared to F , G E and D. so bank should give more of A,B and C graded loans.\n",
    "\n",
    "5) Even though the percentage of total Charged off loans is 4% , it is increasing only a YOY basis . Therefore Lending Club Bank should invest in thorough Data Analysis with good quality data.\n",
    "\n",
    "6) Home ownership of the applicant could be a good indicator for identifying defaulters. But there are many 'other' types which does not provide correct insight into the defaulter profile.\n",
    "\n",
    "7) Loan amount and Loan status are directly correlated. As the loan amount increases charged off count also goes up so bank should avoid giving higher value loans.\n",
    "\n",
    "8) 36 months or 60 months term period does not have much impact on charged off and fully paid ratio.So bank can go upto 60 month terms period\n",
    "\n",
    "9) Annual income of the borrower applicant if high is able to pay off the loan and does not default. So bank should target high net worth individuals for loans.\n",
    "\n",
    "10) The bank is giving approximately equal number of loans with 1 year employement and 10 year employment. Bank can look into increasing loans to applicants with more number of employment years as we have noticed more defaulters with less employment years.\n"
   ]
  },
  {
   "cell_type": "markdown",
   "id": "373f6b98",
   "metadata": {},
   "source": [
    "### 4b. Assumptions"
   ]
  },
  {
   "cell_type": "markdown",
   "id": "5b48dc41",
   "metadata": {},
   "source": [
    "1) The data provided is of the bank at which the applicant has applied for loan. We do not have other bank data.\n",
    "2) The current loan status has been ignored as the assumption here is that a person already having a loan with the bank will not be given another loan."
   ]
  },
  {
   "cell_type": "code",
   "execution_count": null,
   "id": "393db580",
   "metadata": {},
   "outputs": [],
   "source": []
  }
 ],
 "metadata": {
  "kernelspec": {
   "display_name": "Python 3 (ipykernel)",
   "language": "python",
   "name": "python3"
  },
  "language_info": {
   "codemirror_mode": {
    "name": "ipython",
    "version": 3
   },
   "file_extension": ".py",
   "mimetype": "text/x-python",
   "name": "python",
   "nbconvert_exporter": "python",
   "pygments_lexer": "ipython3",
   "version": "3.10.9"
  }
 },
 "nbformat": 4,
 "nbformat_minor": 5
}
